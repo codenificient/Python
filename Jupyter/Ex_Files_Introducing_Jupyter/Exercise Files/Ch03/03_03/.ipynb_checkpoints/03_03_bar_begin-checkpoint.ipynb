{
 "cells": [
  {
   "cell_type": "markdown",
   "metadata": {},
   "source": [
    "## Exploring environmental data with Jupyter Notebooks\n",
    "#### Tioye"
   ]
  },
  {
   "cell_type": "markdown",
   "metadata": {},
   "source": [
    "Let's import the libraries and helper functions needed"
   ]
  },
  {
   "cell_type": "code",
   "execution_count": 1,
   "metadata": {
    "slideshow": {
     "slide_type": "slide"
    }
   },
   "outputs": [],
   "source": [
    "import matplotlib.pyplot as plt\n",
    "import pandas as pd\n",
    "import numpy as np"
   ]
  },
  {
   "cell_type": "code",
   "execution_count": 11,
   "metadata": {},
   "outputs": [],
   "source": [
    "# %load ../helper_funcs/get_df.py\n",
    "def get_df(yr):\n",
    "    return pd.read_csv(\"../../inputs/Environmental_Data_Deep_Moor_{}.csv\".format(yr))"
   ]
  },
  {
   "cell_type": "code",
   "execution_count": 12,
   "metadata": {},
   "outputs": [],
   "source": [
    "# %load ../helper_funcs/get_seasons.py\n",
    "def get_seasons(yr):\n",
    "    df = get_df(yr)\n",
    "    return [df[df['date'].between('{}_03_20'.format(yr),'{}_06_19'.format(yr))],\n",
    "            df[df['date'].between('{}_06_20'.format(yr),'{}_09_21'.format(yr))],\n",
    "            df[df['date'].between('{}_09_22'.format(yr),'{}_12_20'.format(yr))],\n",
    "            df[~df['date'].between('{}_03_20'.format(yr),'{}_12_20'.format(yr))]]"
   ]
  },
  {
   "cell_type": "markdown",
   "metadata": {},
   "source": [
    "Let's set the four seasons. We will plot the average temperature in each seasons using bar charts"
   ]
  },
  {
   "cell_type": "code",
   "execution_count": 13,
   "metadata": {},
   "outputs": [],
   "source": [
    "seasons = [\"Spring\", \"Summer\", \"Fall\", \"Winter\"]"
   ]
  },
  {
   "cell_type": "code",
   "execution_count": 15,
   "metadata": {},
   "outputs": [],
   "source": [
    "heights = [season['Air_Temp'].mean() for season in get_seasons('2013')]"
   ]
  },
  {
   "cell_type": "markdown",
   "metadata": {},
   "source": [
    "Let's plot a basic fours seasons chart based on average temperatures"
   ]
  },
  {
   "cell_type": "code",
   "execution_count": 17,
   "metadata": {},
   "outputs": [
    {
     "data": {
      "image/png": "[encoded data removed]",
      "text/plain": [
       "<Figure size 432x288 with 1 Axes>"
      ]
     },
     "metadata": {
      "needs_background": "light"
     },
     "output_type": "display_data"
    }
   ],
   "source": [
    "plt.bar(seasons, heights)\n",
    "plt.show()"
   ]
  },
  {
   "cell_type": "markdown",
   "metadata": {},
   "source": [
    "Let's use different shades of green based on average temperature in 2013"
   ]
  },
  {
   "cell_type": "code",
   "execution_count": 19,
   "metadata": {},
   "outputs": [],
   "source": [
    "alphas = [height/max(heights) for height in heights]\n",
    "colors = [(0.1, 0.7, 0.2, a) for a in alphas]"
   ]
  },
  {
   "cell_type": "code",
   "execution_count": 23,
   "metadata": {},
   "outputs": [
    {
     "data": {
      "image/png": "[encoded data removed]",
      "text/plain": [
       "<Figure size 432x288 with 1 Axes>"
      ]
     },
     "metadata": {
      "needs_background": "light"
     },
     "output_type": "display_data"
    }
   ],
   "source": [
    "plt.bar(seasons,heights,0.6,color = colors)\n",
    "plt.ylabel('Fahrenheit',fontsize=12)\n",
    "plt.title('Average Temperature',fontsize=16)\n",
    "plt.xticks(rotation=30,fontsize=12)\n",
    "plt.show()"
   ]
  },
  {
   "cell_type": "markdown",
   "metadata": {},
   "source": [
    "We will prepare the same plot for the year 2014 in order to compare average temperature"
   ]
  },
  {
   "cell_type": "code",
   "execution_count": 31,
   "metadata": {},
   "outputs": [],
   "source": [
    "heights14 = [season['Air_Temp'].mean() for season in get_seasons('2014')]\n",
    "alphas14 = [height/max(heights) for height in heights14]\n",
    "colors14 = [(.2,.1,.7,a) for a in alphas14]"
   ]
  },
  {
   "cell_type": "code",
   "execution_count": 32,
   "metadata": {},
   "outputs": [
    {
     "data": {
      "image/png": "[encoded data removed]",
      "text/plain": [
       "<Figure size 432x288 with 1 Axes>"
      ]
     },
     "metadata": {
      "needs_background": "light"
     },
     "output_type": "display_data"
    }
   ],
   "source": [
    "index = np.arange(4)\n",
    "fig, ax = plt.subplots()\n",
    "rects1 = ax.bar(index,heights, 0.3, color = colors, label = '2013')\n",
    "rects2 = ax.bar(index+.3, heights14, .3, color = colors14, label = '2014')\n",
    "ax.legend()\n",
    "plt.show()"
   ]
  },
  {
   "cell_type": "code",
   "execution_count": null,
   "metadata": {},
   "outputs": [],
   "source": []
  }
 ],
 "metadata": {
  "kernelspec": {
   "display_name": "Python 3",
   "language": "python",
   "name": "python3"
  },
  "language_info": {
   "codemirror_mode": {
    "name": "ipython",
    "version": 3
   },
   "file_extension": ".py",
   "mimetype": "text/x-python",
   "name": "python",
   "nbconvert_exporter": "python",
   "pygments_lexer": "ipython3",
   "version": "3.7.4"
  }
 },
 "nbformat": 4,
 "nbformat_minor": 2
}
