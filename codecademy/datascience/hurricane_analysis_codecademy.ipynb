{
 "cells": [
  {
   "cell_type": "markdown",
   "id": "b2648e8d-75dd-4a7b-b829-1035371f7bbf",
   "metadata": {},
   "source": [
    "# Hurricane Analysis"
   ]
  },
  {
   "cell_type": "markdown",
   "id": "6acac54f-385c-47d0-ab06-4f47e14336e7",
   "metadata": {},
   "source": [
    "### Codecademy project practice by CodenificienT"
   ]
  },
  {
   "cell_type": "markdown",
   "id": "b322ec2d-46e7-418a-b0aa-2e3a9b7afec5",
   "metadata": {},
   "source": [
    "### Provided Data"
   ]
  },
  {
   "cell_type": "code",
   "execution_count": 1,
   "id": "ae60af46-6521-4602-9b77-837e2307ccda",
   "metadata": {},
   "outputs": [],
   "source": [
    "# A# names of hurricanes\n",
    "names = ['Cuba I', 'San Felipe II Okeechobee', 'Bahamas', 'Cuba II', 'CubaBrownsville', 'Tampico', 'Labor Day', 'New England', 'Carol', 'Janet', 'Carla', 'Hattie', 'Beulah', 'Camille', 'Edith', 'Anita', 'David', 'Allen', 'Gilbert', 'Hugo', 'Andrew', 'Mitch', 'Isabel', 'Ivan', 'Emily', 'Katrina', 'Rita', 'Wilma', 'Dean', 'Felix', 'Matthew', 'Irma', 'Maria', 'Michael']\n",
    "\n",
    "# months of hurricanes\n",
    "months = ['October', 'September', 'September', 'November', 'August', 'September', 'September', 'September', 'September', 'September', 'September', 'October', 'September', 'August', 'September', 'September', 'August', 'August', 'September', 'September', 'August', 'October', 'September', 'September', 'July', 'August', 'September', 'October', 'August', 'September', 'October', 'September', 'September', 'October']\n",
    "\n",
    "# years of hurricanes\n",
    "years = [1924, 1928, 1932, 1932, 1933, 1933, 1935, 1938, 1953, 1955, 1961, 1961, 1967, 1969, 1971, 1977, 1979, 1980, 1988, 1989, 1992, 1998, 2003, 2004, 2005, 2005, 2005, 2005, 2007, 2007, 2016, 2017, 2017, 2018]\n",
    "\n",
    "# maximum sustained winds (mph) of hurricanes\n",
    "max_sustained_winds = [165, 160, 160, 175, 160, 160, 185, 160, 160, 175, 175, 160, 160, 175, 160, 175, 175, 190, 185, 160, 175, 180, 165, 165, 160, 175, 180, 185, 175, 175, 165, 180, 175, 160]\n",
    "\n",
    "# areas affected by each hurricane\n",
    "areas_affected = [['Central America', 'Mexico', 'Cuba', 'Florida', 'The Bahamas'], ['Lesser Antilles', 'The Bahamas', 'United States East Coast', 'Atlantic Canada'], ['The Bahamas', 'Northeastern United States'], ['Lesser Antilles', 'Jamaica', 'Cayman Islands', 'Cuba', 'The Bahamas', 'Bermuda'], ['The Bahamas', 'Cuba', 'Florida', 'Texas', 'Tamaulipas'], ['Jamaica', 'Yucatn Peninsula'], ['The Bahamas', 'Florida', 'Georgia', 'The Carolinas', 'Virginia'], ['Southeastern United States', 'Northeastern United States', 'Southwestern Quebec'], ['Bermuda', 'New England', 'Atlantic Canada'], ['Lesser Antilles', 'Central America'], ['Texas', 'Louisiana', 'Midwestern United States'], ['Central America'], ['The Caribbean', 'Mexico', 'Texas'], ['Cuba', 'United States Gulf Coast'], ['The Caribbean', 'Central America', 'Mexico', 'United States Gulf Coast'], ['Mexico'], ['The Caribbean', 'United States East coast'], ['The Caribbean', 'Yucatn Peninsula', 'Mexico', 'South Texas'], ['Jamaica', 'Venezuela', 'Central America', 'Hispaniola', 'Mexico'], ['The Caribbean', 'United States East Coast'], ['The Bahamas', 'Florida', 'United States Gulf Coast'], ['Central America', 'Yucatn Peninsula', 'South Florida'], ['Greater Antilles', 'Bahamas', 'Eastern United States', 'Ontario'], ['The Caribbean', 'Venezuela', 'United States Gulf Coast'], ['Windward Islands', 'Jamaica', 'Mexico', 'Texas'], ['Bahamas', 'United States Gulf Coast'], ['Cuba', 'United States Gulf Coast'], ['Greater Antilles', 'Central America', 'Florida'], ['The Caribbean', 'Central America'], ['Nicaragua', 'Honduras'], ['Antilles', 'Venezuela', 'Colombia', 'United States East Coast', 'Atlantic Canada'], ['Cape Verde', 'The Caribbean', 'British Virgin Islands', 'U.S. Virgin Islands', 'Cuba', 'Florida'], ['Lesser Antilles', 'Virgin Islands', 'Puerto Rico', 'Dominican Republic', 'Turks and Caicos Islands'], ['Central America', 'United States Gulf Coast (especially Florida Panhandle)']]\n",
    "\n",
    "# damages (USD($)) of hurricanes\n",
    "damages = ['Damages not recorded', '100M', 'Damages not recorded', '40M', '27.9M', '5M', 'Damages not recorded', '306M', '2M', '65.8M', '326M', '60.3M', '208M', '1.42B', '25.4M', 'Damages not recorded', '1.54B', '1.24B', '7.1B', '10B', '26.5B', '6.2B', '5.37B', '23.3B', '1.01B', '125B', '12B', '29.4B', '1.76B', '720M', '15.1B', '64.8B', '91.6B', '25.1B']\n",
    "\n",
    "# deaths for each hurricane\n",
    "deaths = [90,4000,16,3103,179,184,408,682,5,1023,43,319,688,259,37,11,2068,269,318,107,65,19325,51,124,17,1836,125,87,45,133,603,138,3057,74]"
   ]
  },
  {
   "cell_type": "markdown",
   "id": "b2789b03-667f-455d-98ac-d622fcfa2023",
   "metadata": {},
   "source": [
    "## 1\n",
    "## Update Recorded Damages"
   ]
  },
  {
   "cell_type": "code",
   "execution_count": 2,
   "id": "d8a63782-da38-4b13-9ec4-3751037ae71f",
   "metadata": {},
   "outputs": [
    {
     "name": "stdout",
     "output_type": "stream",
     "text": [
      "\n",
      "========= UPDATING DAMAGES =========\n",
      "\n",
      "['Damages not recorded', 100000000.0, 'Damages not recorded', 40000000.0, 27900000.0, 5000000.0, 'Damages not recorded', 306000000.0, 2000000.0, 65800000.0, 326000000.0, 60300000.0, 208000000.0, 1420000000.0, 25400000.0, 'Damages not recorded', 1540000000.0, 1240000000.0, 7100000000.0, 10000000000.0, 26500000000.0, 6200000000.0, 5370000000.0, 23300000000.0, 1010000000.0, 125000000000.0, 12000000000.0, 29400000000.0, 1760000000.0, 720000000.0, 15100000000.0, 64800000000.0, 91600000000.0, 25100000000.0]\n"
     ]
    }
   ],
   "source": [
    "conversion = {\"M\": 1000000,\n",
    "              \"B\": 1000000000}\n",
    "\n",
    "def update_damages(recorded_dmg):\n",
    "  new_list = []\n",
    "  for dmg in recorded_dmg:\n",
    "    if dmg.startswith(\"Damages not recorded\"):\n",
    "      new_list.append(\"Damages not recorded\")\n",
    "    elif dmg.endswith(\"M\"):\n",
    "      new_list.append(float(dmg.replace(\"M\", \"\")) * conversion[\"M\"])\n",
    "    else:\n",
    "      new_list.append(float(dmg.replace(\"B\", \"\")) * conversion[\"B\"])\n",
    "  return new_list\n",
    "# test function by updating damages\n",
    "print(\"\\n========= UPDATING DAMAGES =========\\n\")\n",
    "print(update_damages(damages))"
   ]
  },
  {
   "cell_type": "markdown",
   "id": "cd84c923-c675-403d-8f74-8dad6409ac2d",
   "metadata": {},
   "source": [
    "## 2 \n",
    "## Create a Table"
   ]
  },
  {
   "cell_type": "code",
   "execution_count": 3,
   "id": "99470028-4757-4585-9f98-f45d917dffff",
   "metadata": {},
   "outputs": [
    {
     "name": "stdout",
     "output_type": "stream",
     "text": [
      "\n",
      "========= VIEW HURRICANES DICTIONARY =========\n",
      "\n",
      "{'Cuba I': {'Name': 'Cuba I', 'Month': 'October', 'Year': 1924, 'Max Sustained Wind': 165, 'Areas Affected': ['Central America', 'Mexico', 'Cuba', 'Florida', 'The Bahamas'], 'Damage': 'Damages not recorded', 'Death': 90}, 'San Felipe II Okeechobee': {'Name': 'San Felipe II Okeechobee', 'Month': 'September', 'Year': 1928, 'Max Sustained Wind': 160, 'Areas Affected': ['Lesser Antilles', 'The Bahamas', 'United States East Coast', 'Atlantic Canada'], 'Damage': '100M', 'Death': 4000}, 'Bahamas': {'Name': 'Bahamas', 'Month': 'September', 'Year': 1932, 'Max Sustained Wind': 160, 'Areas Affected': ['The Bahamas', 'Northeastern United States'], 'Damage': 'Damages not recorded', 'Death': 16}, 'Cuba II': {'Name': 'Cuba II', 'Month': 'November', 'Year': 1932, 'Max Sustained Wind': 175, 'Areas Affected': ['Lesser Antilles', 'Jamaica', 'Cayman Islands', 'Cuba', 'The Bahamas', 'Bermuda'], 'Damage': '40M', 'Death': 3103}, 'CubaBrownsville': {'Name': 'CubaBrownsville', 'Month': 'August', 'Year': 1933, 'Max Sustained Wind': 160, 'Areas Affected': ['The Bahamas', 'Cuba', 'Florida', 'Texas', 'Tamaulipas'], 'Damage': '27.9M', 'Death': 179}, 'Tampico': {'Name': 'Tampico', 'Month': 'September', 'Year': 1933, 'Max Sustained Wind': 160, 'Areas Affected': ['Jamaica', 'Yucatn Peninsula'], 'Damage': '5M', 'Death': 184}, 'Labor Day': {'Name': 'Labor Day', 'Month': 'September', 'Year': 1935, 'Max Sustained Wind': 185, 'Areas Affected': ['The Bahamas', 'Florida', 'Georgia', 'The Carolinas', 'Virginia'], 'Damage': 'Damages not recorded', 'Death': 408}, 'New England': {'Name': 'New England', 'Month': 'September', 'Year': 1938, 'Max Sustained Wind': 160, 'Areas Affected': ['Southeastern United States', 'Northeastern United States', 'Southwestern Quebec'], 'Damage': '306M', 'Death': 682}, 'Carol': {'Name': 'Carol', 'Month': 'September', 'Year': 1953, 'Max Sustained Wind': 160, 'Areas Affected': ['Bermuda', 'New England', 'Atlantic Canada'], 'Damage': '2M', 'Death': 5}, 'Janet': {'Name': 'Janet', 'Month': 'September', 'Year': 1955, 'Max Sustained Wind': 175, 'Areas Affected': ['Lesser Antilles', 'Central America'], 'Damage': '65.8M', 'Death': 1023}, 'Carla': {'Name': 'Carla', 'Month': 'September', 'Year': 1961, 'Max Sustained Wind': 175, 'Areas Affected': ['Texas', 'Louisiana', 'Midwestern United States'], 'Damage': '326M', 'Death': 43}, 'Hattie': {'Name': 'Hattie', 'Month': 'October', 'Year': 1961, 'Max Sustained Wind': 160, 'Areas Affected': ['Central America'], 'Damage': '60.3M', 'Death': 319}, 'Beulah': {'Name': 'Beulah', 'Month': 'September', 'Year': 1967, 'Max Sustained Wind': 160, 'Areas Affected': ['The Caribbean', 'Mexico', 'Texas'], 'Damage': '208M', 'Death': 688}, 'Camille': {'Name': 'Camille', 'Month': 'August', 'Year': 1969, 'Max Sustained Wind': 175, 'Areas Affected': ['Cuba', 'United States Gulf Coast'], 'Damage': '1.42B', 'Death': 259}, 'Edith': {'Name': 'Edith', 'Month': 'September', 'Year': 1971, 'Max Sustained Wind': 160, 'Areas Affected': ['The Caribbean', 'Central America', 'Mexico', 'United States Gulf Coast'], 'Damage': '25.4M', 'Death': 37}, 'Anita': {'Name': 'Anita', 'Month': 'September', 'Year': 1977, 'Max Sustained Wind': 175, 'Areas Affected': ['Mexico'], 'Damage': 'Damages not recorded', 'Death': 11}, 'David': {'Name': 'David', 'Month': 'August', 'Year': 1979, 'Max Sustained Wind': 175, 'Areas Affected': ['The Caribbean', 'United States East coast'], 'Damage': '1.54B', 'Death': 2068}, 'Allen': {'Name': 'Allen', 'Month': 'August', 'Year': 1980, 'Max Sustained Wind': 190, 'Areas Affected': ['The Caribbean', 'Yucatn Peninsula', 'Mexico', 'South Texas'], 'Damage': '1.24B', 'Death': 269}, 'Gilbert': {'Name': 'Gilbert', 'Month': 'September', 'Year': 1988, 'Max Sustained Wind': 185, 'Areas Affected': ['Jamaica', 'Venezuela', 'Central America', 'Hispaniola', 'Mexico'], 'Damage': '7.1B', 'Death': 318}, 'Hugo': {'Name': 'Hugo', 'Month': 'September', 'Year': 1989, 'Max Sustained Wind': 160, 'Areas Affected': ['The Caribbean', 'United States East Coast'], 'Damage': '10B', 'Death': 107}, 'Andrew': {'Name': 'Andrew', 'Month': 'August', 'Year': 1992, 'Max Sustained Wind': 175, 'Areas Affected': ['The Bahamas', 'Florida', 'United States Gulf Coast'], 'Damage': '26.5B', 'Death': 65}, 'Mitch': {'Name': 'Mitch', 'Month': 'October', 'Year': 1998, 'Max Sustained Wind': 180, 'Areas Affected': ['Central America', 'Yucatn Peninsula', 'South Florida'], 'Damage': '6.2B', 'Death': 19325}, 'Isabel': {'Name': 'Isabel', 'Month': 'September', 'Year': 2003, 'Max Sustained Wind': 165, 'Areas Affected': ['Greater Antilles', 'Bahamas', 'Eastern United States', 'Ontario'], 'Damage': '5.37B', 'Death': 51}, 'Ivan': {'Name': 'Ivan', 'Month': 'September', 'Year': 2004, 'Max Sustained Wind': 165, 'Areas Affected': ['The Caribbean', 'Venezuela', 'United States Gulf Coast'], 'Damage': '23.3B', 'Death': 124}, 'Emily': {'Name': 'Emily', 'Month': 'July', 'Year': 2005, 'Max Sustained Wind': 160, 'Areas Affected': ['Windward Islands', 'Jamaica', 'Mexico', 'Texas'], 'Damage': '1.01B', 'Death': 17}, 'Katrina': {'Name': 'Katrina', 'Month': 'August', 'Year': 2005, 'Max Sustained Wind': 175, 'Areas Affected': ['Bahamas', 'United States Gulf Coast'], 'Damage': '125B', 'Death': 1836}, 'Rita': {'Name': 'Rita', 'Month': 'September', 'Year': 2005, 'Max Sustained Wind': 180, 'Areas Affected': ['Cuba', 'United States Gulf Coast'], 'Damage': '12B', 'Death': 125}, 'Wilma': {'Name': 'Wilma', 'Month': 'October', 'Year': 2005, 'Max Sustained Wind': 185, 'Areas Affected': ['Greater Antilles', 'Central America', 'Florida'], 'Damage': '29.4B', 'Death': 87}, 'Dean': {'Name': 'Dean', 'Month': 'August', 'Year': 2007, 'Max Sustained Wind': 175, 'Areas Affected': ['The Caribbean', 'Central America'], 'Damage': '1.76B', 'Death': 45}, 'Felix': {'Name': 'Felix', 'Month': 'September', 'Year': 2007, 'Max Sustained Wind': 175, 'Areas Affected': ['Nicaragua', 'Honduras'], 'Damage': '720M', 'Death': 133}, 'Matthew': {'Name': 'Matthew', 'Month': 'October', 'Year': 2016, 'Max Sustained Wind': 165, 'Areas Affected': ['Antilles', 'Venezuela', 'Colombia', 'United States East Coast', 'Atlantic Canada'], 'Damage': '15.1B', 'Death': 603}, 'Irma': {'Name': 'Irma', 'Month': 'September', 'Year': 2017, 'Max Sustained Wind': 180, 'Areas Affected': ['Cape Verde', 'The Caribbean', 'British Virgin Islands', 'U.S. Virgin Islands', 'Cuba', 'Florida'], 'Damage': '64.8B', 'Death': 138}, 'Maria': {'Name': 'Maria', 'Month': 'September', 'Year': 2017, 'Max Sustained Wind': 175, 'Areas Affected': ['Lesser Antilles', 'Virgin Islands', 'Puerto Rico', 'Dominican Republic', 'Turks and Caicos Islands'], 'Damage': '91.6B', 'Death': 3057}, 'Michael': {'Name': 'Michael', 'Month': 'October', 'Year': 2018, 'Max Sustained Wind': 160, 'Areas Affected': ['Central America', 'United States Gulf Coast (especially Florida Panhandle)'], 'Damage': '25.1B', 'Death': 74}}\n"
     ]
    }
   ],
   "source": [
    "\n",
    "def create_hurricane_dict(names, months, years, max_sustained_winds, damages, areas_affected, deaths):\n",
    "  hurricanes_dict = {}\n",
    "  for i in range(len(names)):\n",
    "    hurricanes_dict[names[i]] = {\n",
    "      \"Name\": names[i],\n",
    "      \"Month\": months[i],\n",
    "      \"Year\": years[i],\n",
    "      \"Max Sustained Wind\":max_sustained_winds[i],\n",
    "      \"Areas Affected\": areas_affected[i],\n",
    "      \"Damage\": damages[i],\n",
    "      \"Death\": deaths[i]\n",
    "    }\n",
    "  return hurricanes_dict\n",
    "# Create and view the hurricanes dictionary\n",
    "print(\"\\n========= VIEW HURRICANES DICTIONARY =========\\n\")\n",
    "print(create_hurricane_dict(names, months, years, max_sustained_winds, damages, areas_affected, deaths))\n"
   ]
  },
  {
   "cell_type": "markdown",
   "id": "61566598-5fa0-46fb-91e5-a8ed04c42a5d",
   "metadata": {},
   "source": [
    "## 3\n",
    "## Organizing by Year"
   ]
  },
  {
   "cell_type": "code",
   "execution_count": 4,
   "id": "22f52c4f-028e-4122-8650-a6b8d021faee",
   "metadata": {},
   "outputs": [
    {
     "name": "stdout",
     "output_type": "stream",
     "text": [
      "\n",
      "========= VIEW ANNUAL HURRICANES DICTIONARY =========\n",
      "\n",
      "{1924: [{'Name': 'Cuba I', 'Month': 'October', 'Year': 1924, 'Max Sustained Wind': 165, 'Areas Affected': ['Central America', 'Mexico', 'Cuba', 'Florida', 'The Bahamas'], 'Damage': 'Damages not recorded', 'Death': 90}], 1928: [{'Name': 'San Felipe II Okeechobee', 'Month': 'September', 'Year': 1928, 'Max Sustained Wind': 160, 'Areas Affected': ['Lesser Antilles', 'The Bahamas', 'United States East Coast', 'Atlantic Canada'], 'Damage': '100M', 'Death': 4000}], 1932: [{'Name': 'Bahamas', 'Month': 'September', 'Year': 1932, 'Max Sustained Wind': 160, 'Areas Affected': ['The Bahamas', 'Northeastern United States'], 'Damage': 'Damages not recorded', 'Death': 16}, {'Name': 'Cuba II', 'Month': 'November', 'Year': 1932, 'Max Sustained Wind': 175, 'Areas Affected': ['Lesser Antilles', 'Jamaica', 'Cayman Islands', 'Cuba', 'The Bahamas', 'Bermuda'], 'Damage': '40M', 'Death': 3103}], 1933: [{'Name': 'CubaBrownsville', 'Month': 'August', 'Year': 1933, 'Max Sustained Wind': 160, 'Areas Affected': ['The Bahamas', 'Cuba', 'Florida', 'Texas', 'Tamaulipas'], 'Damage': '27.9M', 'Death': 179}, {'Name': 'Tampico', 'Month': 'September', 'Year': 1933, 'Max Sustained Wind': 160, 'Areas Affected': ['Jamaica', 'Yucatn Peninsula'], 'Damage': '5M', 'Death': 184}], 1935: [{'Name': 'Labor Day', 'Month': 'September', 'Year': 1935, 'Max Sustained Wind': 185, 'Areas Affected': ['The Bahamas', 'Florida', 'Georgia', 'The Carolinas', 'Virginia'], 'Damage': 'Damages not recorded', 'Death': 408}], 1938: [{'Name': 'New England', 'Month': 'September', 'Year': 1938, 'Max Sustained Wind': 160, 'Areas Affected': ['Southeastern United States', 'Northeastern United States', 'Southwestern Quebec'], 'Damage': '306M', 'Death': 682}], 1953: [{'Name': 'Carol', 'Month': 'September', 'Year': 1953, 'Max Sustained Wind': 160, 'Areas Affected': ['Bermuda', 'New England', 'Atlantic Canada'], 'Damage': '2M', 'Death': 5}], 1955: [{'Name': 'Janet', 'Month': 'September', 'Year': 1955, 'Max Sustained Wind': 175, 'Areas Affected': ['Lesser Antilles', 'Central America'], 'Damage': '65.8M', 'Death': 1023}], 1961: [{'Name': 'Carla', 'Month': 'September', 'Year': 1961, 'Max Sustained Wind': 175, 'Areas Affected': ['Texas', 'Louisiana', 'Midwestern United States'], 'Damage': '326M', 'Death': 43}, {'Name': 'Hattie', 'Month': 'October', 'Year': 1961, 'Max Sustained Wind': 160, 'Areas Affected': ['Central America'], 'Damage': '60.3M', 'Death': 319}], 1967: [{'Name': 'Beulah', 'Month': 'September', 'Year': 1967, 'Max Sustained Wind': 160, 'Areas Affected': ['The Caribbean', 'Mexico', 'Texas'], 'Damage': '208M', 'Death': 688}], 1969: [{'Name': 'Camille', 'Month': 'August', 'Year': 1969, 'Max Sustained Wind': 175, 'Areas Affected': ['Cuba', 'United States Gulf Coast'], 'Damage': '1.42B', 'Death': 259}], 1971: [{'Name': 'Edith', 'Month': 'September', 'Year': 1971, 'Max Sustained Wind': 160, 'Areas Affected': ['The Caribbean', 'Central America', 'Mexico', 'United States Gulf Coast'], 'Damage': '25.4M', 'Death': 37}], 1977: [{'Name': 'Anita', 'Month': 'September', 'Year': 1977, 'Max Sustained Wind': 175, 'Areas Affected': ['Mexico'], 'Damage': 'Damages not recorded', 'Death': 11}], 1979: [{'Name': 'David', 'Month': 'August', 'Year': 1979, 'Max Sustained Wind': 175, 'Areas Affected': ['The Caribbean', 'United States East coast'], 'Damage': '1.54B', 'Death': 2068}], 1980: [{'Name': 'Allen', 'Month': 'August', 'Year': 1980, 'Max Sustained Wind': 190, 'Areas Affected': ['The Caribbean', 'Yucatn Peninsula', 'Mexico', 'South Texas'], 'Damage': '1.24B', 'Death': 269}], 1988: [{'Name': 'Gilbert', 'Month': 'September', 'Year': 1988, 'Max Sustained Wind': 185, 'Areas Affected': ['Jamaica', 'Venezuela', 'Central America', 'Hispaniola', 'Mexico'], 'Damage': '7.1B', 'Death': 318}], 1989: [{'Name': 'Hugo', 'Month': 'September', 'Year': 1989, 'Max Sustained Wind': 160, 'Areas Affected': ['The Caribbean', 'United States East Coast'], 'Damage': '10B', 'Death': 107}], 1992: [{'Name': 'Andrew', 'Month': 'August', 'Year': 1992, 'Max Sustained Wind': 175, 'Areas Affected': ['The Bahamas', 'Florida', 'United States Gulf Coast'], 'Damage': '26.5B', 'Death': 65}], 1998: [{'Name': 'Mitch', 'Month': 'October', 'Year': 1998, 'Max Sustained Wind': 180, 'Areas Affected': ['Central America', 'Yucatn Peninsula', 'South Florida'], 'Damage': '6.2B', 'Death': 19325}], 2003: [{'Name': 'Isabel', 'Month': 'September', 'Year': 2003, 'Max Sustained Wind': 165, 'Areas Affected': ['Greater Antilles', 'Bahamas', 'Eastern United States', 'Ontario'], 'Damage': '5.37B', 'Death': 51}], 2004: [{'Name': 'Ivan', 'Month': 'September', 'Year': 2004, 'Max Sustained Wind': 165, 'Areas Affected': ['The Caribbean', 'Venezuela', 'United States Gulf Coast'], 'Damage': '23.3B', 'Death': 124}], 2005: [{'Name': 'Emily', 'Month': 'July', 'Year': 2005, 'Max Sustained Wind': 160, 'Areas Affected': ['Windward Islands', 'Jamaica', 'Mexico', 'Texas'], 'Damage': '1.01B', 'Death': 17}, {'Name': 'Katrina', 'Month': 'August', 'Year': 2005, 'Max Sustained Wind': 175, 'Areas Affected': ['Bahamas', 'United States Gulf Coast'], 'Damage': '125B', 'Death': 1836}, {'Name': 'Rita', 'Month': 'September', 'Year': 2005, 'Max Sustained Wind': 180, 'Areas Affected': ['Cuba', 'United States Gulf Coast'], 'Damage': '12B', 'Death': 125}, {'Name': 'Wilma', 'Month': 'October', 'Year': 2005, 'Max Sustained Wind': 185, 'Areas Affected': ['Greater Antilles', 'Central America', 'Florida'], 'Damage': '29.4B', 'Death': 87}], 2007: [{'Name': 'Dean', 'Month': 'August', 'Year': 2007, 'Max Sustained Wind': 175, 'Areas Affected': ['The Caribbean', 'Central America'], 'Damage': '1.76B', 'Death': 45}, {'Name': 'Felix', 'Month': 'September', 'Year': 2007, 'Max Sustained Wind': 175, 'Areas Affected': ['Nicaragua', 'Honduras'], 'Damage': '720M', 'Death': 133}], 2016: [{'Name': 'Matthew', 'Month': 'October', 'Year': 2016, 'Max Sustained Wind': 165, 'Areas Affected': ['Antilles', 'Venezuela', 'Colombia', 'United States East Coast', 'Atlantic Canada'], 'Damage': '15.1B', 'Death': 603}], 2017: [{'Name': 'Irma', 'Month': 'September', 'Year': 2017, 'Max Sustained Wind': 180, 'Areas Affected': ['Cape Verde', 'The Caribbean', 'British Virgin Islands', 'U.S. Virgin Islands', 'Cuba', 'Florida'], 'Damage': '64.8B', 'Death': 138}, {'Name': 'Maria', 'Month': 'September', 'Year': 2017, 'Max Sustained Wind': 175, 'Areas Affected': ['Lesser Antilles', 'Virgin Islands', 'Puerto Rico', 'Dominican Republic', 'Turks and Caicos Islands'], 'Damage': '91.6B', 'Death': 3057}], 2018: [{'Name': 'Michael', 'Month': 'October', 'Year': 2018, 'Max Sustained Wind': 160, 'Areas Affected': ['Central America', 'United States Gulf Coast (especially Florida Panhandle)'], 'Damage': '25.1B', 'Death': 74}]}\n"
     ]
    }
   ],
   "source": [
    "def create_hurricane_annual(names, months, years, max_sustained_winds, damages, areas_affected, deaths):\n",
    "  hurricanes_dict = {}\n",
    "  for i in range(len(names)):\n",
    "    if years[i] in hurricanes_dict:\n",
    "      hurricanes_dict[years[i]].append({\n",
    "      \"Name\": names[i],\n",
    "      \"Month\": months[i],\n",
    "      \"Year\": years[i],\n",
    "      \"Max Sustained Wind\":max_sustained_winds[i],\n",
    "      \"Areas Affected\": areas_affected[i],\n",
    "      \"Damage\": damages[i],\n",
    "      \"Death\": deaths[i]\n",
    "    })\n",
    "    else:\n",
    "      hurricanes_dict[years[i]] = [{\n",
    "      \"Name\": names[i],\n",
    "      \"Month\": months[i],\n",
    "      \"Year\": years[i],\n",
    "      \"Max Sustained Wind\":max_sustained_winds[i],\n",
    "      \"Areas Affected\": areas_affected[i],\n",
    "      \"Damage\": damages[i],\n",
    "      \"Death\": deaths[i]\n",
    "    }]\n",
    "  return hurricanes_dict\n",
    "# create a new dictionary of hurricanes with year and key\n",
    "print(\"\\n========= VIEW ANNUAL HURRICANES DICTIONARY =========\\n\")\n",
    "print(create_hurricane_annual(names, months, years, max_sustained_winds, damages, areas_affected, deaths))"
   ]
  },
  {
   "cell_type": "markdown",
   "id": "0d9d4dcb-8cfe-49c7-921b-2dc9d230934d",
   "metadata": {},
   "source": [
    "## 4\n",
    "## Counting Damaged Areas"
   ]
  },
  {
   "cell_type": "code",
   "execution_count": 5,
   "id": "445db954-7768-467d-ab85-dcc0a86d7cd8",
   "metadata": {},
   "outputs": [
    {
     "name": "stdout",
     "output_type": "stream",
     "text": [
      "\n",
      "========= HURRICANE DAMAGES BY AREA =========\n",
      "\n",
      "{'Central America': 9, 'Mexico': 7, 'Cuba': 6, 'Florida': 6, 'The Bahamas': 7, 'Lesser Antilles': 4, 'United States East Coast': 3, 'Atlantic Canada': 3, 'Northeastern United States': 2, 'Jamaica': 4, 'Cayman Islands': 1, 'Bermuda': 2, 'Texas': 4, 'Tamaulipas': 1, 'Yucatn Peninsula': 3, 'Georgia': 1, 'The Carolinas': 1, 'Virginia': 1, 'Southeastern United States': 1, 'Southwestern Quebec': 1, 'New England': 1, 'Louisiana': 1, 'Midwestern United States': 1, 'The Caribbean': 8, 'United States Gulf Coast': 6, 'United States East coast': 1, 'South Texas': 1, 'Venezuela': 3, 'Hispaniola': 1, 'South Florida': 1, 'Greater Antilles': 2, 'Bahamas': 2, 'Eastern United States': 1, 'Ontario': 1, 'Windward Islands': 1, 'Nicaragua': 1, 'Honduras': 1, 'Antilles': 1, 'Colombia': 1, 'Cape Verde': 1, 'British Virgin Islands': 1, 'U.S. Virgin Islands': 1, 'Virgin Islands': 1, 'Puerto Rico': 1, 'Dominican Republic': 1, 'Turks and Caicos Islands': 1, 'United States Gulf Coast (especially Florida Panhandle)': 1}\n"
     ]
    }
   ],
   "source": [
    "def count_damage_areas(dmg_list):\n",
    "  damage_loss = {}\n",
    "  for lst in dmg_list:\n",
    "    for area in lst:\n",
    "      if area in damage_loss:\n",
    "        damage_loss[area] += 1\n",
    "      else:\n",
    "        damage_loss[area] = 1\n",
    "  return damage_loss\n",
    "# create dictionary of areas to store the number of hurricanes involved in\n",
    "print(\"\\n========= HURRICANE DAMAGES BY AREA =========\\n\")\n",
    "print(count_damage_areas(areas_affected))"
   ]
  },
  {
   "cell_type": "markdown",
   "id": "5706e3c4-eeec-43b7-854b-ebb3bbf42fc6",
   "metadata": {},
   "source": [
    "## 5 \n",
    "## Calculating Maximum Hurricane Count"
   ]
  },
  {
   "cell_type": "code",
   "execution_count": 6,
   "id": "3d8ef6e2-a8e0-45d2-a26d-98afc86b1b98",
   "metadata": {},
   "outputs": [
    {
     "name": "stdout",
     "output_type": "stream",
     "text": [
      "\n",
      "========= MOST AFFECTED AREA BY HURRICANES =========\n",
      "\n",
      "('Central America', 9)\n"
     ]
    }
   ],
   "source": [
    "# find most frequently affected area and the number of hurricanes involved in\n",
    "def most_affected(areas_affected):\n",
    "  max_area = \"\"\n",
    "  max_count = 0\n",
    "  for key, value  in count_damage_areas(areas_affected).items():\n",
    "    if value > max_count:\n",
    "      max_area = key\n",
    "      max_count = value\n",
    "  return max_area, max_count\n",
    "\n",
    "print(\"\\n========= MOST AFFECTED AREA BY HURRICANES =========\\n\")\n",
    "print(most_affected(areas_affected))"
   ]
  },
  {
   "cell_type": "markdown",
   "id": "c595df8f-9820-4ac4-b0c3-d287e9e85890",
   "metadata": {},
   "source": [
    "## 6\n",
    "## Calculating the Deadliest Hurricane"
   ]
  },
  {
   "cell_type": "code",
   "execution_count": 7,
   "id": "843ffe6d-5408-4011-9862-b14fc6e9b818",
   "metadata": {},
   "outputs": [
    {
     "name": "stdout",
     "output_type": "stream",
     "text": [
      "\n",
      "========= DEADLIEST HURRICANES =========\n",
      "\n",
      "('Hurricane Mitch', 19325)\n"
     ]
    }
   ],
   "source": [
    "# find highest mortality hurricane and the number of deaths\n",
    "def deadliest_hurricance():\n",
    "  hurricanes_list = create_hurricane_dict(names, months, years, max_sustained_winds, damages, areas_affected, deaths)\n",
    "  deadliest_name = \"\"\n",
    "  deadliest_count = 0\n",
    "  for name, value in hurricanes_list.items():\n",
    "    if value[\"Death\"] > deadliest_count:\n",
    "      deadliest_name = \"Hurricane \" + name\n",
    "      deadliest_count = value[\"Death\"]\n",
    "  return deadliest_name, deadliest_count\n",
    "  \n",
    "print(\"\\n========= DEADLIEST HURRICANES =========\\n\")\n",
    "print(deadliest_hurricance())"
   ]
  },
  {
   "cell_type": "markdown",
   "id": "f2f6f540-da73-486d-bba5-a35efb1b4ae3",
   "metadata": {},
   "source": [
    "## 7\n",
    "## Rating Hurricanes by Mortality"
   ]
  },
  {
   "cell_type": "code",
   "execution_count": 8,
   "id": "0314862d-1bd7-4d71-a247-f214c0fe104a",
   "metadata": {},
   "outputs": [
    {
     "name": "stdout",
     "output_type": "stream",
     "text": [
      "\n",
      "========= HURRICANES BY MORTALITY =========\n",
      "\n",
      "{0: ['Cuba I', 'Bahamas', 'Carol', 'Carla', 'Edith', 'Anita', 'Andrew', 'Isabel', 'Emily', 'Wilma', 'Dean', 'Michael'], 3: ['San Felipe II Okeechobee', 'Cuba II', 'Janet', 'David', 'Katrina', 'Maria'], 1: ['CubaBrownsville', 'Tampico', 'Labor Day', 'Hattie', 'Camille', 'Allen', 'Gilbert', 'Hugo', 'Ivan', 'Rita', 'Felix', 'Irma'], 2: ['New England', 'Beulah', 'Matthew'], 4: ['Mitch']}\n"
     ]
    }
   ],
   "source": [
    "# categorize hurricanes in new dictionary with mortality severity as key\n",
    "\n",
    "def get_mortality_scale(deaths):\n",
    "  if int(deaths) >= 10000:\n",
    "    return 4\n",
    "  elif int(deaths) >= 1000:\n",
    "    return 3\n",
    "  elif int(deaths) >= 500:\n",
    "    return 2\n",
    "  elif int(deaths) >= 100:\n",
    "    return 1\n",
    "  else:\n",
    "    return 0\n",
    "\n",
    "def hurricane_by_mortality():\n",
    "  hurricanes_list = create_hurricane_dict(names, months, years, max_sustained_winds, damages, areas_affected, deaths)\n",
    "\n",
    "  hurricane_scale = {}\n",
    "  for hurricane, details in hurricanes_list.items():\n",
    "    # print(hurricane)\n",
    "    scale = get_mortality_scale(details[\"Death\"])\n",
    "    if scale in hurricane_scale:\n",
    "      hurricane_scale[scale].append(details[\"Name\"])\n",
    "    else:\n",
    "      hurricane_scale[scale] = [details[\"Name\"]]\n",
    "  return hurricane_scale\n",
    "\n",
    "print(\"\\n========= HURRICANES BY MORTALITY =========\\n\")\n",
    "print(hurricane_by_mortality())"
   ]
  },
  {
   "cell_type": "markdown",
   "id": "0714ff82-e0a0-409c-852e-4cfd42b73fb9",
   "metadata": {},
   "source": [
    "## 8 Calculating Hurricane Maximum Damage"
   ]
  },
  {
   "cell_type": "code",
   "execution_count": 9,
   "id": "36be6c2c-2da6-4718-ab90-37f0f4da2d99",
   "metadata": {},
   "outputs": [
    {
     "name": "stdout",
     "output_type": "stream",
     "text": [
      "\n",
      "========= COSTLIEST HURRICANE BY DAMAGE =========\n",
      "\n",
      "('Katrina', 125000000000.0)\n"
     ]
    }
   ],
   "source": [
    "# find highest damage inducing hurricane and its total cost\n",
    "def costliest_hurricane():\n",
    "  max_damage_cane = \"\"\n",
    "  max_damage = 0\n",
    "  for i in range(len(names)):\n",
    "    current_dmg = 0\n",
    "    if damages[i].endswith(\"M\"):\n",
    "      current_dmg = float(damages[i].replace(\"M\", \"\")) * conversion[\"M\"]\n",
    "      if current_dmg > max_damage:\n",
    "        max_damage_cane = names[i]\n",
    "        max_damage = current_dmg\n",
    "    elif damages[i].endswith(\"B\"):\n",
    "      current_dmg = float(damages[i].replace(\"B\", \"\")) * conversion[\"B\"]\n",
    "      if current_dmg > max_damage:\n",
    "        max_damage_cane = names[i]\n",
    "        max_damage = current_dmg \n",
    "  return max_damage_cane, max_damage\n",
    "\n",
    "print(\"\\n========= COSTLIEST HURRICANE BY DAMAGE =========\\n\")\n",
    "print(costliest_hurricane())"
   ]
  },
  {
   "cell_type": "markdown",
   "id": "e68748c8-75ad-418e-9503-73e92afa04e7",
   "metadata": {},
   "source": [
    "## 9\n",
    "## Rating Hurricanes by Damage"
   ]
  },
  {
   "cell_type": "code",
   "execution_count": 10,
   "id": "44702cf6-e121-4ffb-b3ca-129b0b22282c",
   "metadata": {},
   "outputs": [
    {
     "name": "stdout",
     "output_type": "stream",
     "text": [
      "\n",
      "========= HURRICANE CATEGORIZED BY DAMAGE =========\n",
      "\n",
      "{0: ['Cuba I', 'Bahamas', 'Cuba II', 'CubaBrownsville', 'Tampico', 'Labor Day', 'Carol', 'Janet', 'Hattie', 'Edith', 'Anita'], 1: ['San Felipe II Okeechobee', 'New England', 'Carla', 'Beulah', 'Felix'], 2: ['Camille', 'David', 'Allen', 'Gilbert', 'Mitch', 'Isabel', 'Emily', 'Dean'], 3: ['Hugo', 'Andrew', 'Ivan', 'Rita', 'Wilma', 'Matthew', 'Michael'], 4: ['Katrina', 'Irma', 'Maria']}\n"
     ]
    }
   ],
   "source": [
    "def get_damage_scale(dmg):\n",
    "  if dmg.startswith(\"Damages not recorded\"):\n",
    "    return 0\n",
    "  elif dmg.endswith(\"B\") and float(dmg.replace(\"B\", \"\")) * conversion[\"B\"] >= 50000000000:\n",
    "    return 4\n",
    "  elif dmg.endswith(\"B\") and float(dmg.replace(\"B\", \"\")) * conversion[\"B\"] >= 10000000000:\n",
    "    return 3\n",
    "  elif dmg.endswith(\"B\") and float(dmg.replace(\"B\", \"\")) * conversion[\"B\"] >= 1000000000:\n",
    "    return 2\n",
    "  elif float(dmg.replace(\"M\", \"\")) * conversion[\"M\"] >= 100000000:\n",
    "    return 1\n",
    "  else:\n",
    "    return 0\n",
    "# categorize hurricanes in new dictionary with damage severity as key\n",
    "def hurricanes_by_damage():\n",
    "  hurricanes_list = create_hurricane_dict(names, months, years, max_sustained_winds, damages, areas_affected, deaths)\n",
    "\n",
    "  hurricane_scale = {}\n",
    "  for hurricane, details in hurricanes_list.items():\n",
    "    dmg_scale = get_damage_scale(details[\"Damage\"])\n",
    "    if dmg_scale in hurricane_scale:\n",
    "      hurricane_scale[dmg_scale].append(details[\"Name\"])\n",
    "    else:\n",
    "      hurricane_scale[dmg_scale] = [details[\"Name\"]]\n",
    "  return hurricane_scale\n",
    "\n",
    "print(\"\\n========= HURRICANE CATEGORIZED BY DAMAGE =========\\n\")\n",
    "print(hurricanes_by_damage())\n",
    "\n"
   ]
  },
  {
   "cell_type": "code",
   "execution_count": null,
   "id": "f988fae6-e81b-41ba-a0c1-59cd131a014a",
   "metadata": {},
   "outputs": [],
   "source": []
  }
 ],
 "metadata": {
  "kernelspec": {
   "display_name": "Python [conda env:base] *",
   "language": "python",
   "name": "conda-base-py"
  },
  "language_info": {
   "codemirror_mode": {
    "name": "ipython",
    "version": 3
   },
   "file_extension": ".py",
   "mimetype": "text/x-python",
   "name": "python",
   "nbconvert_exporter": "python",
   "pygments_lexer": "ipython3",
   "version": "3.12.7"
  }
 },
 "nbformat": 4,
 "nbformat_minor": 5
}
