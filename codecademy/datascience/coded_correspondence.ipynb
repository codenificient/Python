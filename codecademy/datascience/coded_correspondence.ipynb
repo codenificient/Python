{
 "cells": [
  {
   "cell_type": "markdown",
   "metadata": {},
   "source": [
    "# Off-Platform Project: Coded Correspondence\n",
    "\n",
    "You and your pen pal, Vishal, have been exchanging letters for some time now. Recently, he has become interested in cryptography and the two of you have started sending encoded messages within your letters.\n",
    "\n",
    "In this project, you will use your Python skills to decipher the messages you receive and to encode your own responses! Put your programming skills to the test with these fun cryptography puzzles. Here is his most recent letter:\n",
    "\n",
    "    Hey there! How have you been? I've been great! I just learned about this really cool type of cipher called a Caesar Cipher. Here's how it works: You take your message, something like \"hello\" and then you shift all of the letters by a certain offset. \n",
    "\n",
    "    For example, if I chose an offset of 3 and a message of \"hello\", I would encode my message by shifting each letter 3 places to the left with respect to the alphabet. So \"h\" becomes \"e\", \"e\" becomes \"b\", \"l\" becomes \"i\", and \"o\" becomes \"l\". Then I have my encoded message, \"ebiil\"! Now I can send you my message and the offset and you can decode it by shifting each letter 3 places to the right. The best thing is that Julius Caesar himself used this cipher, that's why it's called the Caesar Cipher! Isn't that so cool! Okay, now I'm going to send you a longer encoded message that you have to decode yourself!\n",
    "    \n",
    "        xuo jxuhu! jxyi yi qd unqcfbu ev q squiqh syfxuh. muhu oek qrbu je tusetu yj? y xefu ie! iudt cu q cuiiqwu rqsa myjx jxu iqcu evviuj!\n",
    "    \n",
    "    This message has an offset of 10. Can you decode it?\n",
    "    \n",
    "\n",
    "#### Step 1: Decode Vishal's Message\n",
    "In the cell below, use your Python skills to decode Vishal's message and print the result."
   ]
  },
  {
   "cell_type": "markdown",
   "metadata": {},
   "source": [
    "Stuck? Open this cell to view Hints: \n",
    "\n",
    "<span hidden>\n",
    "You can account for shifts that go past the end of the alphabet using the modulus operator, but I'll let you figure out how!\n",
    "\n",
    "Watch out for spaces and punctuation! Your code should only shift characters that are in the alphabet.\n",
    "\n",
    "You'll want to find a way to represent the letters of the alphabet as numbers, where `a = 0`, `b = 1`, etc. Remember, the characters of a string can be accessed with integer indices.\n",
    "</span>"
   ]
  },
  {
   "cell_type": "code",
   "execution_count": 9,
   "metadata": {},
   "outputs": [
    {
     "name": "stdout",
     "output_type": "stream",
     "text": [
      "\n",
      "Decoded message:\n",
      " hey there! this is an example of a caesar cipher. were you able to decode it? i hope so! send me a message back with the same offset!\n",
      "Encoded new reply\n",
      " Hovvy pbsoxn, s rkfo loox klvo dy nomszrob iyeb wocckqo. s drsxu dro mizrob sc dyy okci dy qeocc. go cryevn myxcsnob ecsxq k cdbyxqob oxmbizdsyx cmrowo pyb wybo zbsfkdo mrkdc.\n"
     ]
    }
   ],
   "source": [
    "cyphertext = \"xuo jxuhu! jxyi yi qd unqcfbu ev q squiqh syfxuh. muhu oek qrbu je tusetu yj? y xefu ie! iudt cu q cuiiqwu rqsa myjx jxu iqcu evviuj!\"\n",
    "\n",
    "offset = 10\n",
    "alphabet = \"abcdefghijklmnopqrstuvwxyz\"\n",
    "\n",
    "decoded = \"\"\n",
    "for letter in cyphertext:\n",
    "  if letter in alphabet:\n",
    "    letter_position = alphabet.find(letter)\n",
    "    decoded += alphabet[(letter_position + offset) % len(alphabet)]\n",
    "  else:\n",
    "    decoded += letter\n",
    "\n",
    "print(\"\\nDecoded message:\\n\",decoded)\n",
    "\n",
    "new_reply = \"Hello friend, i have been able to decipher your message. i think the cypher is too easy to guess. we should consider using a stronger encryption scheme for more private chats.\"\n",
    "\n"
   ]
  },
  {
   "cell_type": "markdown",
   "metadata": {},
   "source": [
    "#### Step 2: Send Vishal a Coded Message\n",
    "Great job! Now send Vishal back a message using the same offset. Your message can be anything you want! Remember, encoding happens in opposite direction of decoding."
   ]
  },
  {
   "cell_type": "code",
   "execution_count": 11,
   "metadata": {},
   "outputs": [
    {
     "name": "stdout",
     "output_type": "stream",
     "text": [
      "Encoded new reply\n",
      " Hovvy pbsoxn, s rkfo loox klvo dy nomszrob iyeb wocckqo. s drsxu dro mizrob sc dyy okci dy qeocc. go cryevn myxcsnob ecsxq k cdbyxqob oxmbizdsyx cmrowo pyb wybo zbsfkdo mrkdc.\n"
     ]
    }
   ],
   "source": [
    "new_cypher_text = \"\"\n",
    "for letter in new_reply:\n",
    "  if letter in alphabet:\n",
    "    letter_position = alphabet.find(letter)\n",
    "    new_cypher_text += alphabet[(letter_position + offset) % len(alphabet)]\n",
    "  else:\n",
    "    new_cypher_text += letter\n",
    "  \n",
    "print(\"Encoded new reply\\n\", new_cypher_text)"
   ]
  },
  {
   "cell_type": "markdown",
   "metadata": {},
   "source": [
    "#### Step 3: Make functions for decoding and coding \n",
    "\n",
    "Vishal sent over another reply, this time with two coded messages!\n",
    "    \n",
    "    You're getting the hang of this! Okay here are two more messages, the first one is coded just like before with an offset of ten, and it contains a hint for decoding the second message!\n",
    "\n",
    "    First message:\n",
    "    \n",
    "        jxu evviuj veh jxu iusedt cuiiqwu yi vekhjuud.\n",
    "        \n",
    "    Second message:\n",
    "    \n",
    "        bqdradyuzs ygxfubxq omqemd oubtqde fa oapq kagd yqeemsqe ue qhqz yadq eqogdq!\n",
    "    \n",
    "Decode both of these messages. \n",
    "\n",
    "If you haven't already, define two functions `caesar_decode(message, offset)` and `caesar_encode(message, offset)` that can be used to quickly decode and encode messages given any offset."
   ]
  },
  {
   "cell_type": "code",
   "execution_count": 15,
   "metadata": {},
   "outputs": [],
   "source": [
    "def decode(cyphertext, offset = 10):\n",
    "    alphabet = \"abcdefghijklmnopqrstuvwxyz\"\n",
    "\n",
    "    decoded = \"\"\n",
    "    for letter in cyphertext:\n",
    "      if letter in alphabet:\n",
    "        letter_position = alphabet.find(letter)\n",
    "        decoded += alphabet[(letter_position + offset) % len(alphabet)]\n",
    "      else:\n",
    "        decoded += letter\n",
    "\n",
    "    return decoded"
   ]
  },
  {
   "cell_type": "code",
   "execution_count": 17,
   "metadata": {},
   "outputs": [],
   "source": [
    "def encode(plaintext, offset=10):\n",
    "    new_cypher_text = \"\"\n",
    "    alphabet = \"abcdefghijklmnopqrstuvwxyz\"\n",
    "    for letter in plaintext:\n",
    "      if letter in alphabet:\n",
    "        letter_position = alphabet.find(letter)\n",
    "        new_cypher_text += alphabet[(letter_position + offset) % len(alphabet)]\n",
    "      else:\n",
    "        new_cypher_text += letter\n",
    "      \n",
    "    return new_cypher_text"
   ]
  },
  {
   "cell_type": "markdown",
   "metadata": {},
   "source": [
    "#### Step 4: Solving a Caesar Cipher without knowing the shift value\n",
    "\n",
    "Awesome work! While you were working to decode his last two messages, Vishal sent over another letter! He's really been bitten by the crypto-bug. Read it and see what interesting task he has lined up for you this time.\n",
    "\n",
    "    Hello again friend! I knew you would love the Caesar Cipher, it's a cool, simple way to encrypt messages. Did you know that back in Caesar's time, it was considered a very secure way of communication and it took a lot of effort to crack if you were unaware of the value of the shift? That's all changed with computers! Now we can brute force these kinds of ciphers very quickly, as I'm sure you can imagine.\n",
    "            \n",
    "    To test your cryptography skills, this next coded message is going to be harder than the last couple to crack. It's still going to be coded with a Caesar Cipher but this time I'm not going to tell you the value of the shift. You'll have to brute force it yourself.\n",
    "            \n",
    "    Here's the coded message:\n",
    "            \n",
    "        vhfinmxkl atox kxgwxkxw tee hy maxlx hew vbiaxkl hulhexmx. px'ee atox mh kxteer lmxi ni hnk ztfx by px ptgm mh dxxi hnk fxlltzxl ltyx.\n",
    "            \n",
    "    Good luck!\n",
    "            \n",
    "Decode Vishal's most recent message and see what it says!"
   ]
  },
  {
   "cell_type": "markdown",
   "metadata": {},
   "source": [
    "Stuck? Open this cell to view Hints: \n",
    "\n",
    "<span hidden>\n",
    "Since you don't know the cipher's offset, you'll need to try every possible option until you find the right one. Use a Python statement that will allow you to execute `caesar_decode()` multiple times with different `offset` arguments.\n",
    "</span>"
   ]
  },
  {
   "cell_type": "code",
   "execution_count": 19,
   "metadata": {},
   "outputs": [
    {
     "name": "stdout",
     "output_type": "stream",
     "text": [
      "0 vhfinmxkl atox kxgwxkxw tee hy maxlx hew vbiaxkl hulhexmx. px'ee atox mh kxteer lmxi ni hnk ztfx by px ptgm mh dxxi hnk fxlltzxl ltyx.\n",
      "1 wigjonylm bupy lyhxylyx uff iz nbymy ifx wcjbylm ivmifyny. qy'ff bupy ni lyuffs mnyj oj iol augy cz qy quhn ni eyyj iol gymmuaym muzy.\n",
      "2 xjhkpozmn cvqz mziyzmzy vgg ja ocznz jgy xdkczmn jwnjgzoz. rz'gg cvqz oj mzvggt nozk pk jpm bvhz da rz rvio oj fzzk jpm hznnvbzn nvaz.\n",
      "3 ykilqpano dwra najzanaz whh kb pdaoa khz yeldano kxokhapa. sa'hh dwra pk nawhhu opal ql kqn cwia eb sa swjp pk gaal kqn iaoowcao owba.\n",
      "4 zljmrqbop exsb obkaboba xii lc qebpb lia zfmebop lyplibqb. tb'ii exsb ql obxiiv pqbm rm lro dxjb fc tb txkq ql hbbm lro jbppxdbp pxcb.\n",
      "5 amknsrcpq fytc pclbcpcb yjj md rfcqc mjb agnfcpq mzqmjcrc. uc'jj fytc rm pcyjjw qrcn sn msp eykc gd uc uylr rm iccn msp kcqqyecq qydc.\n",
      "6 bnlotsdqr gzud qdmcdqdc zkk ne sgdrd nkc bhogdqr narnkdsd. vd'kk gzud sn qdzkkx rsdo to ntq fzld he vd vzms sn jddo ntq ldrrzfdr rzed.\n",
      "7 computers have rendered all of these old ciphers obsolete. we'll have to really step up our game if we want to keep our messages safe.\n",
      "8 dpnqvufst ibwf sfoefsfe bmm pg uiftf pme djqifst pctpmfuf. xf'mm ibwf up sfbmmz tufq vq pvs hbnf jg xf xbou up lffq pvs nfttbhft tbgf.\n",
      "9 eqorwvgtu jcxg tgpfgtgf cnn qh vjgug qnf ekrjgtu qduqngvg. yg'nn jcxg vq tgcnna uvgr wr qwt icog kh yg ycpv vq mggr qwt oguucigu uchg.\n",
      "10 frpsxwhuv kdyh uhqghuhg doo ri wkhvh rog flskhuv revrohwh. zh'oo kdyh wr uhdoob vwhs xs rxu jdph li zh zdqw wr nhhs rxu phvvdjhv vdih.\n",
      "11 gsqtyxivw lezi virhivih epp sj xliwi sph gmtlivw sfwspixi. ai'pp lezi xs vieppc wxit yt syv keqi mj ai aerx xs oiit syv qiwwekiw weji.\n",
      "12 htruzyjwx mfaj wjsijwji fqq tk ymjxj tqi hnumjwx tgxtqjyj. bj'qq mfaj yt wjfqqd xyju zu tzw lfrj nk bj bfsy yt pjju tzw rjxxfljx xfkj.\n",
      "13 iusvazkxy ngbk xktjkxkj grr ul znkyk urj iovnkxy uhyurkzk. ck'rr ngbk zu xkgrre yzkv av uax mgsk ol ck cgtz zu qkkv uax skyygmky yglk.\n",
      "14 jvtwbalyz ohcl yluklylk hss vm aolzl vsk jpwolyz vizvslal. dl'ss ohcl av ylhssf zalw bw vby nhtl pm dl dhua av rllw vby tlzzhnlz zhml.\n",
      "15 kwuxcbmza pidm zmvlmzml itt wn bpmam wtl kqxpmza wjawtmbm. em'tt pidm bw zmittg abmx cx wcz oium qn em eivb bw smmx wcz umaaioma ainm.\n",
      "16 lxvydcnab qjen anwmnanm juu xo cqnbn xum lryqnab xkbxuncn. fn'uu qjen cx anjuuh bcny dy xda pjvn ro fn fjwc cx tnny xda vnbbjpnb bjon.\n",
      "17 mywzedobc rkfo boxnobon kvv yp droco yvn mszrobc ylcyvodo. go'vv rkfo dy bokvvi cdoz ez yeb qkwo sp go gkxd dy uooz yeb wocckqoc ckpo.\n",
      "18 nzxafepcd slgp cpyopcpo lww zq espdp zwo ntaspcd zmdzwpep. hp'ww slgp ez cplwwj depa fa zfc rlxp tq hp hlye ez vppa zfc xpddlrpd dlqp.\n",
      "19 oaybgfqde tmhq dqzpqdqp mxx ar ftqeq axp oubtqde aneaxqfq. iq'xx tmhq fa dqmxxk efqb gb agd smyq ur iq imzf fa wqqb agd yqeemsqe emrq.\n"
     ]
    }
   ],
   "source": [
    "coded = \"vhfinmxkl atox kxgwxkxw tee hy maxlx hew vbiaxkl hulhexmx. px'ee atox mh kxteer lmxi ni hnk ztfx by px ptgm mh dxxi hnk fxlltzxl ltyx.\"\n",
    "for i in range(20):\n",
    "    print(i, decode(coded, i))"
   ]
  },
  {
   "cell_type": "markdown",
   "metadata": {},
   "source": [
    "#### Step 5: The Vigenère Cipher\n",
    "\n",
    "Great work! While you were working on the brute force cracking of the cipher, Vishal sent over another letter. That guy is a letter machine!\n",
    "\n",
    "    Salutations! As you can see, technology has made brute forcing simple ciphers like the Caesar Cipher extremely easy, and us crypto-enthusiasts have had to get more creative and use more complicated ciphers. This next cipher I'm going to teach you is the Vigenère Cipher, invented by an Italian cryptologist named Giovan Battista Bellaso (cool name eh?) in the 16th century, but named after another cryptologist from the 16th century, Blaise de Vigenère.\n",
    "            \n",
    "    The Vigenère Cipher is a polyalphabetic substitution cipher, as opposed to the Caesar Cipher which was a monoalphabetic substitution cipher. What this means is that opposed to having a single shift that is applied to every letter, the Vigenère Cipher has a different shift for each individual letter. The value of the shift for each letter is determined by a given keyword.\n",
    "           \n",
    "    Consider the message:\n",
    "           \n",
    "        barry is the spy\n",
    "\n",
    "    If we want to code this message, first we choose a keyword. For this example, we'll use the keyword\n",
    "           \n",
    "        dog\n",
    "               \n",
    "    Now we repeat the keyword over and over to generate a keyword phrase that is the same length as the message we want to code. So if we want to code the message \"barry is the spy\" our keyword phrase is \"dogdo gd ogd ogd\". Now we are ready to start coding our message. We shift each letter of our message by the place value of the corresponding letter in the keyword phrase, assuming that \"a\" has a place value of 0, \"b\" has a place value of 1, and so forth.\n",
    "\n",
    "                  message:    b  a  r  r  y    i  s    t  h  e    s  p  y\n",
    "                \n",
    "           keyword phrase:    d  o  g  d  o    g  d    o  g  d    o  g  d\n",
    "                 \n",
    "    resulting place value:    24 12 11 14 10   2  15   5  1  1    4  9  21\n",
    "      \n",
    "    So we shift \"b\", which has an index of 1, by the index of \"d\", which is 3. This gives us an place value of 24, which is \"y\". Remember to loop back around when we reach either end of the alphabet! Then continue the trend: we shift \"a\" by the place value of \"o\", 14, and get \"m\", we shift \"r\" by the place value of \"g\", 15, and get \"l\", shift the next \"r\" by 4 places and get \"o\", and so forth. Once we complete all the shifts we end up with our coded message:\n",
    "            \n",
    "        ymlok cp fbb ejv\n",
    "                \n",
    "    As you can imagine, this is a lot harder to crack without knowing the keyword! So now comes the hard part. I'll give you a message and the keyword, and you'll see if you can figure out how to crack it! Ready? Okay here's my message:\n",
    "            \n",
    "        txm srom vkda gl lzlgzr qpdb? fepb ejac! ubr imn tapludwy mhfbz cza ruxzal wg zztcgcexxch!\n",
    "                \n",
    "    and the keyword to decode my message is \n",
    "            \n",
    "        friends\n",
    "                \n",
    "    Because that's what we are! Good luck friend!\n",
    "           \n",
    "And there it is. Vishal has given you quite the assignment this time! Try to decode his message. It may be helpful to create a function that takes two parameters &mdash; the coded message and the keyword &mdash; then work towards a solution from there."
   ]
  },
  {
   "cell_type": "markdown",
   "metadata": {},
   "source": [
    "Stuck? Open this cell to view Hints: \n",
    "\n",
    "<span hidden>\n",
    "Like before, you'll only want to shift characters that are in the alphabet. Your keyword phrase should ignore any spaces and punctuation in the original message.\n",
    "\n",
    "For example, given the message\n",
    "\n",
    "  ciphers are awesome!\n",
    "\n",
    "and the keyword\n",
    "\n",
    "  cat\n",
    "\n",
    "the keyword phrase would be:\n",
    "\n",
    "  catcatc atc atcatca\n",
    "\n",
    "and the encoded string would be:\n",
    "\n",
    "  aiwfeyq ayc adcsvke!\n",
    "</span>"
   ]
  },
  {
   "cell_type": "code",
   "execution_count": 2,
   "metadata": {},
   "outputs": [
    {
     "name": "stdout",
     "output_type": "stream",
     "text": [
      "Do you want to (e)ncrypt or (d)ecrypt?\n"
     ]
    },
    {
     "name": "stdin",
     "output_type": "stream",
     "text": [
      ">  e\n"
     ]
    },
    {
     "name": "stdout",
     "output_type": "stream",
     "text": [
      "Enter the message.\n"
     ]
    },
    {
     "name": "stdin",
     "output_type": "stream",
     "text": [
      ">  barry is the spy\n"
     ]
    },
    {
     "name": "stdout",
     "output_type": "stream",
     "text": [
      "Enter the keyword.\n"
     ]
    },
    {
     "name": "stdin",
     "output_type": "stream",
     "text": [
      ">  dog\n"
     ]
    },
    {
     "name": "stdout",
     "output_type": "stream",
     "text": [
      "Result: eoxum ov hnh gvb\n"
     ]
    }
   ],
   "source": [
    "def vigenere_cipher(text, keyword, mode):\n",
    "    result = \"\"\n",
    "    keyword_length = len(keyword)\n",
    "    keyword = keyword.upper()\n",
    "    key_index = 0\n",
    "\n",
    "    for i, char in enumerate(text):\n",
    "        if char.isalpha():\n",
    "            ascii_offset = ord('A') if char.isupper() else ord('a')\n",
    "            keyword_shift = ord(keyword[key_index % keyword_length]) - ord('A')\n",
    "\n",
    "            if mode == \"decrypt\":\n",
    "                keyword_shift = -keyword_shift  # Reverse the shift for decryption\n",
    "\n",
    "            char = chr((ord(char) - ascii_offset + keyword_shift) % 26 + ascii_offset)\n",
    "            key_index+=1\n",
    "        result += char\n",
    "\n",
    "    return result\n",
    "\n",
    "# Get mode\n",
    "while True:\n",
    "    print('Do you want to (e)ncrypt or (d)ecrypt?')\n",
    "    response = input('> ').lower()\n",
    "    if response.startswith('e'):\n",
    "        action = 'encrypt'\n",
    "        break\n",
    "    elif response.startswith('d'):\n",
    "        action = 'decrypt'\n",
    "        break\n",
    "    print('Please enter the letter e or d.')\n",
    "\n",
    "print(\"Enter the message.\")\n",
    "message = input('> ')\n",
    "\n",
    "print(\"Enter the keyword.\")\n",
    "keyword = input('> ').upper()\n",
    "\n",
    "# Perform encryption/decryption\n",
    "result = vigenere_cipher(message, keyword, action)\n",
    "\n",
    "# Display the result\n",
    "print(f\"Result: {result}\")"
   ]
  },
  {
   "cell_type": "code",
   "execution_count": 119,
   "metadata": {},
   "outputs": [],
   "source": [
    "def generate_key(plain, key):\n",
    "    new_key = key\n",
    "    alphabet = \"abcdefghijklmnopqrstuvwxyz\"\n",
    "    if len(key) == len(plain):\n",
    "        return key\n",
    "    else:\n",
    "        for i in range(len(plain) - len(key)):\n",
    "            if key[i % len(key)] in alphabet:\n",
    "                new_key += key[i % len(key)]\n",
    "            else:\n",
    "                new_key += \" \"           \n",
    "    return new_key\n",
    "\n",
    "\n",
    "def encode_vigenere(plain, key):\n",
    "    new_key = generate_key(plain, key)\n",
    "    ciphertext = \"\"\n",
    "    alphabet = \"abcdefghijklmnopqrstuvwxyz\"\n",
    "    for i in range(len(plain)):\n",
    "        plain_letter, key_letter = plain[i], new_key[i]\n",
    "        if plain_letter in alphabet:\n",
    "            enc_char_position = (alphabet.find(plain_letter) - alphabet.find(key_letter)) % 26\n",
    "            ciphertext += alphabet[enc_char_position]\n",
    "        else:\n",
    "            ciphertext += plain_letter\n",
    "    return ciphertext"
   ]
  },
  {
   "cell_type": "code",
   "execution_count": 121,
   "metadata": {},
   "outputs": [
    {
     "name": "stdout",
     "output_type": "stream",
     "text": [
      "ymlok fe qty ejv\n"
     ]
    }
   ],
   "source": [
    "print(encode_vigenere(\"barry is the spy\", \"dog\"))"
   ]
  },
  {
   "cell_type": "code",
   "execution_count": 123,
   "metadata": {},
   "outputs": [
    {
     "data": {
      "text/plain": [
       "16"
      ]
     },
     "execution_count": 123,
     "metadata": {},
     "output_type": "execute_result"
    }
   ],
   "source": [
    "len(\"barry is the spy\")"
   ]
  },
  {
   "cell_type": "code",
   "execution_count": 125,
   "metadata": {},
   "outputs": [
    {
     "data": {
      "text/plain": [
       "'dogdogdogdogdogd'"
      ]
     },
     "execution_count": 125,
     "metadata": {},
     "output_type": "execute_result"
    }
   ],
   "source": [
    "generate_key(\"barry is the spy\", \"dog\")"
   ]
  },
  {
   "cell_type": "markdown",
   "metadata": {
    "collapsed": true,
    "jupyter": {
     "outputs_hidden": true
    }
   },
   "source": [
    "#### Step 6: Send a message with the  Vigenère Cipher\n",
    "Great work decoding the message. For your final task, write a function that can encode a message using a given keyword and write out a message to send to Vishal!\n",
    "\n",
    "*As a bonus, try calling your decoder function on the result of your encryption function. You should get the original message back!*"
   ]
  },
  {
   "cell_type": "code",
   "execution_count": null,
   "metadata": {},
   "outputs": [],
   "source": []
  },
  {
   "cell_type": "markdown",
   "metadata": {},
   "source": [
    "#### Conclusion\n",
    "Over the course of this project you've learned about two different cipher methods and have used your Python skills to code and decode messages. There are all types of other facinating ciphers out there to explore, and Python is the perfect language to implement them with, so go exploring! "
   ]
  }
 ],
 "metadata": {
  "kernelspec": {
   "display_name": "Python [conda env:base] *",
   "language": "python",
   "name": "conda-base-py"
  },
  "language_info": {
   "codemirror_mode": {
    "name": "ipython",
    "version": 3
   },
   "file_extension": ".py",
   "mimetype": "text/x-python",
   "name": "python",
   "nbconvert_exporter": "python",
   "pygments_lexer": "ipython3",
   "version": "3.12.7"
  }
 },
 "nbformat": 4,
 "nbformat_minor": 4
}
